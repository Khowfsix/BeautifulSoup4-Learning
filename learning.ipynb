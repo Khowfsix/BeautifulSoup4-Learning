{
 "cells": [
  {
   "attachments": {},
   "cell_type": "markdown",
   "metadata": {},
   "source": [
    "# Learning Beautiful Soup 4"
   ]
  },
  {
   "cell_type": "code",
   "execution_count": 28,
   "metadata": {},
   "outputs": [],
   "source": [
    "# import thư viện\n",
    "import requests\n",
    "from bs4 import BeautifulSoup"
   ]
  },
  {
   "attachments": {},
   "cell_type": "markdown",
   "metadata": {},
   "source": [
    "## WEB SCRAPING - Basic HTML web scraping"
   ]
  },
  {
   "cell_type": "code",
   "execution_count": 29,
   "metadata": {},
   "outputs": [
    {
     "name": "stdout",
     "output_type": "stream",
     "text": [
      "<!DOCTYPE html>\n",
      "<html lang=\"en\">\n",
      "\t<head>\n",
      "\t\t<meta charset=\"UTF-8\" />\n",
      "\t\t<meta http-equiv=\"X-UA-Compatible\" content=\"IE=edge\" />\n",
      "\t\t<meta name=\"viewport\" content=\"width=device-width, initial-scale=1.0\" />\n",
      "\t\t<link\n",
      "\t\t\thref=\"https://cdn.jsdelivr.net/npm/bootstrap@5.2.3/dist/css/bootstrap.min.css\"\n",
      "\t\t\trel=\"stylesheet\"\n",
      "\t\t\tintegrity=\"sha384-rbsA2VBKQhggwzxH7pPCaAqO46MgnOM80zW1RWuH61DGLwZJEdK2Kadq2F9CUG65\"\n",
      "\t\t\tcrossorigin=\"anonymous\"\n",
      "\t\t/>\n",
      "\t\t<title>BeautifulSoup 4 Testing Page</title>\n",
      "\t</head>\n",
      "\n",
      "\t<body>\n",
      "\t\t<h1>Hello, I'm eating a Beautiful Soup!</h1>\n",
      "\t\t<div class=\"card\" id=\"card-python-for-beginners\">\n",
      "\t\t\t<div class=\"card-header\">Python</div>\n",
      "\t\t\t<div class=\"card-body\">\n",
      "\t\t\t\t<h5 class=\"card-tittle\">Python for beginners</h5>\n",
      "\t\t\t\t<p class=\"card-text\">\n",
      "\t\t\t\t\tIf you are new to Python, this course that you should buy!\n",
      "\t\t\t\t</p>\n",
      "\t\t\t\t<a href=\"#\" class=\"btn btn-primary\">Start for 20$</a>\n",
      "\t\t\t</div>\n",
      "\t\t</div>\n",
      "\n",
      "\t\t<div class=\"card\" id=\"card-python-web-development\">\n",
      "\t\t\t<div class=\"card-header\">Python</div>\n",
      "\t\t\t<div class=\"card-body\">\n",
      "\t\t\t\t<h5 class=\"card-tittle\">Python Web Development</h5>\n",
      "\t\t\t\t<p class=\"card-text\">\n",
      "\t\t\t\t\tIf you feel enough confident with Python, you already to\n",
      "\t\t\t\t\tlearn how to create your own website!\n",
      "\t\t\t\t</p>\n",
      "\t\t\t\t<a href=\"#\" class=\"btn btn-primary\">Start for 50$</a>\n",
      "\t\t\t</div>\n",
      "\t\t</div>\n",
      "\n",
      "\t\t<div class=\"card\" id=\"card-python-machine-learning\">\n",
      "\t\t\t<div class=\"card-header\">Python</div>\n",
      "\t\t\t<div class=\"card-body\">\n",
      "\t\t\t\t<h5 class=\"card-tittle\">Python Machine Learning</h5>\n",
      "\t\t\t\t<p class=\"card-text\">\n",
      "\t\t\t\t\tBecome a Python Machine Learning master!\n",
      "\t\t\t\t</p>\n",
      "\t\t\t\t<a href=\"#\" class=\"btn btn-primary\">Start for 100$</a>\n",
      "\t\t\t</div>\n",
      "\t\t</div>\n",
      "\t\t<script\n",
      "\t\t\tsrc=\"https://cdn.jsdelivr.net/npm/bootstrap@5.2.3/dist/js/bootstrap.bundle.min.js\"\n",
      "\t\t\tintegrity=\"sha384-kenU1KFdBIe4zVF0s0G1M5b4hcpxyD9F7jL+jjXkk+Q2h455rYXK/7HAuoJl+0I4\"\n",
      "\t\t\tcrossorigin=\"anonymous\"\n",
      "\t\t></script>\n",
      "\t\t<script\n",
      "\t\t\tsrc=\"https://cdn.jsdelivr.net/npm/@popperjs/core@2.11.6/dist/umd/popper.min.js\"\n",
      "\t\t\tintegrity=\"sha384-oBqDVmMz9ATKxIep9tiCxS/Z9fNfEXiDAYTujMAeBAsjFuCZSmKbSSUnQlmh/jp3\"\n",
      "\t\t\tcrossorigin=\"anonymous\"\n",
      "\t\t></script>\n",
      "\t\t<script\n",
      "\t\t\tsrc=\"https://cdn.jsdelivr.net/npm/bootstrap@5.2.3/dist/js/bootstrap.min.js\"\n",
      "\t\t\tintegrity=\"sha384-cuYeSxntonz0PPNlHhBs68uyIAVpIIOZZ5JqeqvYYIcEL727kskC66kF92t6Xl2V\"\n",
      "\t\t\tcrossorigin=\"anonymous\"\n",
      "\t\t></script>\n",
      "\t</body>\n",
      "</html>\n",
      "\n"
     ]
    }
   ],
   "source": [
    "# Mở file offline\n",
    "# mode r: read only\n",
    "with open(file='./homepage.html', mode='r') as html_file:\n",
    "    content = html_file.read()\n",
    "    print(content)"
   ]
  },
  {
   "cell_type": "code",
   "execution_count": 30,
   "metadata": {},
   "outputs": [
    {
     "name": "stdout",
     "output_type": "stream",
     "text": [
      "<!DOCTYPE html>\n",
      "<html lang=\"en\">\n",
      " <head>\n",
      "  <meta charset=\"utf-8\"/>\n",
      "  <meta content=\"IE=edge\" http-equiv=\"X-UA-Compatible\"/>\n",
      "  <meta content=\"width=device-width, initial-scale=1.0\" name=\"viewport\"/>\n",
      "  <link crossorigin=\"anonymous\" href=\"https://cdn.jsdelivr.net/npm/bootstrap@5.2.3/dist/css/bootstrap.min.css\" integrity=\"sha384-rbsA2VBKQhggwzxH7pPCaAqO46MgnOM80zW1RWuH61DGLwZJEdK2Kadq2F9CUG65\" rel=\"stylesheet\"/>\n",
      "  <title>\n",
      "   BeautifulSoup 4 Testing Page\n",
      "  </title>\n",
      " </head>\n",
      " <body>\n",
      "  <h1>\n",
      "   Hello, I'm eating a Beautiful Soup!\n",
      "  </h1>\n",
      "  <div class=\"card\" id=\"card-python-for-beginners\">\n",
      "   <div class=\"card-header\">\n",
      "    Python\n",
      "   </div>\n",
      "   <div class=\"card-body\">\n",
      "    <h5 class=\"card-tittle\">\n",
      "     Python for beginners\n",
      "    </h5>\n",
      "    <p class=\"card-text\">\n",
      "     If you are new to Python, this course that you should buy!\n",
      "    </p>\n",
      "    <a class=\"btn btn-primary\" href=\"#\">\n",
      "     Start for 20$\n",
      "    </a>\n",
      "   </div>\n",
      "  </div>\n",
      "  <div class=\"card\" id=\"card-python-web-development\">\n",
      "   <div class=\"card-header\">\n",
      "    Python\n",
      "   </div>\n",
      "   <div class=\"card-body\">\n",
      "    <h5 class=\"card-tittle\">\n",
      "     Python Web Development\n",
      "    </h5>\n",
      "    <p class=\"card-text\">\n",
      "     If you feel enough confident with Python, you already to\n",
      "\t\t\t\t\tlearn how to create your own website!\n",
      "    </p>\n",
      "    <a class=\"btn btn-primary\" href=\"#\">\n",
      "     Start for 50$\n",
      "    </a>\n",
      "   </div>\n",
      "  </div>\n",
      "  <div class=\"card\" id=\"card-python-machine-learning\">\n",
      "   <div class=\"card-header\">\n",
      "    Python\n",
      "   </div>\n",
      "   <div class=\"card-body\">\n",
      "    <h5 class=\"card-tittle\">\n",
      "     Python Machine Learning\n",
      "    </h5>\n",
      "    <p class=\"card-text\">\n",
      "     Become a Python Machine Learning master!\n",
      "    </p>\n",
      "    <a class=\"btn btn-primary\" href=\"#\">\n",
      "     Start for 100$\n",
      "    </a>\n",
      "   </div>\n",
      "  </div>\n",
      "  <script crossorigin=\"anonymous\" integrity=\"sha384-kenU1KFdBIe4zVF0s0G1M5b4hcpxyD9F7jL+jjXkk+Q2h455rYXK/7HAuoJl+0I4\" src=\"https://cdn.jsdelivr.net/npm/bootstrap@5.2.3/dist/js/bootstrap.bundle.min.js\">\n",
      "  </script>\n",
      "  <script crossorigin=\"anonymous\" integrity=\"sha384-oBqDVmMz9ATKxIep9tiCxS/Z9fNfEXiDAYTujMAeBAsjFuCZSmKbSSUnQlmh/jp3\" src=\"https://cdn.jsdelivr.net/npm/@popperjs/core@2.11.6/dist/umd/popper.min.js\">\n",
      "  </script>\n",
      "  <script crossorigin=\"anonymous\" integrity=\"sha384-cuYeSxntonz0PPNlHhBs68uyIAVpIIOZZ5JqeqvYYIcEL727kskC66kF92t6Xl2V\" src=\"https://cdn.jsdelivr.net/npm/bootstrap@5.2.3/dist/js/bootstrap.min.js\">\n",
      "  </script>\n",
      " </body>\n",
      "</html>\n",
      "\n"
     ]
    }
   ],
   "source": [
    "# Mở file offline\n",
    "# mode r: read only\n",
    "# Duyệt bằng BeautifulSoup\n",
    "# markup là nội dung\n",
    "# features là định dạng\n",
    "with open(file='./homepage.html', mode='r') as html_file:\n",
    "    content = html_file.read()\n",
    "    \n",
    "    soup = BeautifulSoup(markup=content, features='lxml')\n",
    "    \n",
    "    # prettify string\n",
    "    print(soup.prettify())"
   ]
  },
  {
   "cell_type": "code",
   "execution_count": 31,
   "metadata": {},
   "outputs": [
    {
     "name": "stdout",
     "output_type": "stream",
     "text": [
      "<h5 class=\"card-tittle\">Python for beginners</h5>\n"
     ]
    }
   ],
   "source": [
    "# Mở file offline\n",
    "# find 1 phần tử\n",
    "with open(file='./homepage.html', mode='r') as html_file:\n",
    "    content = html_file.read()\n",
    "    soup = BeautifulSoup(markup=content, features='lxml')\n",
    "    \n",
    "    # Tìm 1 thẻ h5\n",
    "    tag = soup.find(name='h5')\n",
    "    print(tag)\n",
    "    # nó sẽ trả về thẻ đầu tiên tìm thấy"
   ]
  },
  {
   "cell_type": "code",
   "execution_count": 32,
   "metadata": {},
   "outputs": [
    {
     "name": "stdout",
     "output_type": "stream",
     "text": [
      "[<h5 class=\"card-tittle\">Python for beginners</h5>, <h5 class=\"card-tittle\">Python Web Development</h5>, <h5 class=\"card-tittle\">Python Machine Learning</h5>]\n"
     ]
    }
   ],
   "source": [
    "# Mở file offline\n",
    "# find nhiều phần tử\n",
    "with open(file='./homepage.html', mode='r') as html_file:\n",
    "    content = html_file.read()\n",
    "    soup = BeautifulSoup(markup=content, features='lxml')\n",
    "    \n",
    "    # Tìm 1 thẻ h5\n",
    "    courses_list_tags = soup.find_all(name='h5')\n",
    "    print(courses_list_tags)"
   ]
  },
  {
   "cell_type": "code",
   "execution_count": 33,
   "metadata": {},
   "outputs": [
    {
     "name": "stdout",
     "output_type": "stream",
     "text": [
      "Python for beginners\n",
      "Python Web Development\n",
      "Python Machine Learning\n"
     ]
    }
   ],
   "source": [
    "# Mở file offline\n",
    "# Lấy nội dung từ nhiều phần tử\n",
    "with open(file='./homepage.html', mode='r') as html_file:\n",
    "    content = html_file.read()\n",
    "    soup = BeautifulSoup(markup=content, features='lxml')\n",
    "    \n",
    "    # Tìm 1 thẻ h5\n",
    "    courses_list_tags = soup.find_all(name='h5')\n",
    "    for course in courses_list_tags:\n",
    "        print(course.text)"
   ]
  },
  {
   "cell_type": "code",
   "execution_count": 34,
   "metadata": {},
   "outputs": [
    {
     "name": "stdout",
     "output_type": "stream",
     "text": [
      "<div class=\"card\" id=\"card-python-for-beginners\">\n",
      "<div class=\"card-header\">Python</div>\n",
      "<div class=\"card-body\">\n",
      "<h5 class=\"card-tittle\">Python for beginners</h5>\n",
      "<p class=\"card-text\">\n",
      "\t\t\t\t\tIf you are new to Python, this course that you should buy!\n",
      "\t\t\t\t</p>\n",
      "<a class=\"btn btn-primary\" href=\"#\">Start for 20$</a>\n",
      "</div>\n",
      "</div>\n",
      "<div class=\"card\" id=\"card-python-web-development\">\n",
      "<div class=\"card-header\">Python</div>\n",
      "<div class=\"card-body\">\n",
      "<h5 class=\"card-tittle\">Python Web Development</h5>\n",
      "<p class=\"card-text\">\n",
      "\t\t\t\t\tIf you feel enough confident with Python, you already to\n",
      "\t\t\t\t\tlearn how to create your own website!\n",
      "\t\t\t\t</p>\n",
      "<a class=\"btn btn-primary\" href=\"#\">Start for 50$</a>\n",
      "</div>\n",
      "</div>\n",
      "<div class=\"card\" id=\"card-python-machine-learning\">\n",
      "<div class=\"card-header\">Python</div>\n",
      "<div class=\"card-body\">\n",
      "<h5 class=\"card-tittle\">Python Machine Learning</h5>\n",
      "<p class=\"card-text\">\n",
      "\t\t\t\t\tBecome a Python Machine Learning master!\n",
      "\t\t\t\t</p>\n",
      "<a class=\"btn btn-primary\" href=\"#\">Start for 100$</a>\n",
      "</div>\n",
      "</div>\n"
     ]
    }
   ],
   "source": [
    "# Mở file offline\n",
    "# Lấy giá của các khóa học\n",
    "with open(file='./homepage.html', mode='r') as html_file:\n",
    "    content = html_file.read()\n",
    "    soup = BeautifulSoup(markup=content, features='lxml')\n",
    "\n",
    "    card_tags = soup.find_all(name='div', class_=\"card\")\n",
    "    for card in card_tags:\n",
    "        print(card)"
   ]
  },
  {
   "cell_type": "code",
   "execution_count": 37,
   "metadata": {},
   "outputs": [
    {
     "name": "stdout",
     "output_type": "stream",
     "text": [
      "Python for beginners\n",
      "Python Web Development\n",
      "Python Machine Learning\n"
     ]
    }
   ],
   "source": [
    "# Mở file offline\n",
    "# Lấy giá của các khóa học\n",
    "with open(file='./homepage.html', mode='r') as html_file:\n",
    "    content = html_file.read()\n",
    "    soup = BeautifulSoup(markup=content, features='lxml')\n",
    "\n",
    "    card_tags = soup.find_all(name='div', class_=\"card\")\n",
    "    for card in card_tags:\n",
    "        # get only h5 tags inside the \"card\" div\n",
    "        courseName = card.h5.text\n",
    "        print(courseName)"
   ]
  },
  {
   "cell_type": "code",
   "execution_count": 48,
   "metadata": {},
   "outputs": [
    {
     "name": "stdout",
     "output_type": "stream",
     "text": [
      "Python for beginners: Start for 20$$\n",
      "Python Web Development: Start for 50$$\n",
      "Python Machine Learning: Start for 100$$\n"
     ]
    }
   ],
   "source": [
    "# Mở file offline\n",
    "# Lấy giá của các khóa học\n",
    "with open(file='./homepage.html', mode='r') as html_file:\n",
    "    content = html_file.read()\n",
    "    soup = BeautifulSoup(markup=content, features='lxml')\n",
    "\n",
    "    card_tags = soup.find_all(name='div', class_=\"card\")\n",
    "    for card in card_tags:\n",
    "        # get name of each cours\n",
    "        courseName = card.h5.text\n",
    "        # get price of each course\n",
    "        coursePrice = card.a.text\n",
    "\n",
    "        print(f\"{courseName}: {coursePrice}$\")"
   ]
  },
  {
   "cell_type": "code",
   "execution_count": 50,
   "metadata": {},
   "outputs": [
    {
     "name": "stdout",
     "output_type": "stream",
     "text": [
      "Python for beginners: 20$\n",
      "Python Web Development: 50$\n",
      "Python Machine Learning: 100$\n"
     ]
    }
   ],
   "source": [
    "# Mở file offline\n",
    "# Lấy giá của các khóa học\n",
    "with open(file='./homepage.html', mode='r') as html_file:\n",
    "    content = html_file.read()\n",
    "    soup = BeautifulSoup(markup=content, features='lxml')\n",
    "\n",
    "    card_tags = soup.find_all(name='div', class_=\"card\")\n",
    "    for card in card_tags:\n",
    "        # get name of each cours\n",
    "        courseName = card.h5.text\n",
    "        # get price of each course\n",
    "        # Cắt chuỗi theo dấu space thành 1 mảng, sau đó lấy phần tử cuối\n",
    "        coursePrice = card.a.text.split()[-1]\n",
    "        # Cắt dấu $ cuối\n",
    "        coursePrice = int(coursePrice[:-1])\n",
    "\n",
    "        print(f\"{courseName}: {coursePrice}$\")"
   ]
  },
  {
   "attachments": {},
   "cell_type": "markdown",
   "metadata": {},
   "source": [
    "## WEB SCRAPING - Scraping a real Website"
   ]
  },
  {
   "cell_type": "code",
   "execution_count": 56,
   "metadata": {},
   "outputs": [],
   "source": [
    "from bs4 import BeautifulSoup\n",
    "import requests"
   ]
  },
  {
   "cell_type": "code",
   "execution_count": 59,
   "metadata": {},
   "outputs": [],
   "source": [
    "html_text = requests.get(\"https://www.timesjobs.com/\")"
   ]
  },
  {
   "cell_type": "code",
   "execution_count": 65,
   "metadata": {
    "vscode": {
     "languageId": "javascript"
    }
   },
   "outputs": [
    {
     "ename": "TypeError",
     "evalue": "object of type 'Response' has no len()",
     "output_type": "error",
     "traceback": [
      "\u001b[1;31m---------------------------------------------------------------------------\u001b[0m",
      "\u001b[1;31mTypeError\u001b[0m                                 Traceback (most recent call last)",
      "\u001b[1;32m~\\AppData\\Local\\Temp\\ipykernel_9204\\1277086177.py\u001b[0m in \u001b[0;36m<module>\u001b[1;34m\u001b[0m\n\u001b[1;32m----> 1\u001b[1;33m \u001b[0msoup\u001b[0m \u001b[1;33m=\u001b[0m \u001b[0mBeautifulSoup\u001b[0m\u001b[1;33m(\u001b[0m\u001b[0mhtml_text\u001b[0m\u001b[1;33m,\u001b[0m \u001b[1;34m'lxml'\u001b[0m\u001b[1;33m)\u001b[0m\u001b[1;33m\u001b[0m\u001b[1;33m\u001b[0m\u001b[0m\n\u001b[0m",
      "\u001b[1;32mc:\\ProgramData\\Anaconda3\\lib\\site-packages\\bs4\\__init__.py\u001b[0m in \u001b[0;36m__init__\u001b[1;34m(self, markup, features, builder, parse_only, from_encoding, exclude_encodings, element_classes, **kwargs)\u001b[0m\n\u001b[0;32m    311\u001b[0m         \u001b[1;32mif\u001b[0m \u001b[0mhasattr\u001b[0m\u001b[1;33m(\u001b[0m\u001b[0mmarkup\u001b[0m\u001b[1;33m,\u001b[0m \u001b[1;34m'read'\u001b[0m\u001b[1;33m)\u001b[0m\u001b[1;33m:\u001b[0m        \u001b[1;31m# It's a file-type object.\u001b[0m\u001b[1;33m\u001b[0m\u001b[1;33m\u001b[0m\u001b[0m\n\u001b[0;32m    312\u001b[0m             \u001b[0mmarkup\u001b[0m \u001b[1;33m=\u001b[0m \u001b[0mmarkup\u001b[0m\u001b[1;33m.\u001b[0m\u001b[0mread\u001b[0m\u001b[1;33m(\u001b[0m\u001b[1;33m)\u001b[0m\u001b[1;33m\u001b[0m\u001b[1;33m\u001b[0m\u001b[0m\n\u001b[1;32m--> 313\u001b[1;33m         elif len(markup) <= 256 and (\n\u001b[0m\u001b[0;32m    314\u001b[0m                 \u001b[1;33m(\u001b[0m\u001b[0misinstance\u001b[0m\u001b[1;33m(\u001b[0m\u001b[0mmarkup\u001b[0m\u001b[1;33m,\u001b[0m \u001b[0mbytes\u001b[0m\u001b[1;33m)\u001b[0m \u001b[1;32mand\u001b[0m \u001b[1;32mnot\u001b[0m \u001b[1;34mb'<'\u001b[0m \u001b[1;32min\u001b[0m \u001b[0mmarkup\u001b[0m\u001b[1;33m)\u001b[0m\u001b[1;33m\u001b[0m\u001b[1;33m\u001b[0m\u001b[0m\n\u001b[0;32m    315\u001b[0m                 \u001b[1;32mor\u001b[0m \u001b[1;33m(\u001b[0m\u001b[0misinstance\u001b[0m\u001b[1;33m(\u001b[0m\u001b[0mmarkup\u001b[0m\u001b[1;33m,\u001b[0m \u001b[0mstr\u001b[0m\u001b[1;33m)\u001b[0m \u001b[1;32mand\u001b[0m \u001b[1;32mnot\u001b[0m \u001b[1;34m'<'\u001b[0m \u001b[1;32min\u001b[0m \u001b[0mmarkup\u001b[0m\u001b[1;33m)\u001b[0m\u001b[1;33m\u001b[0m\u001b[1;33m\u001b[0m\u001b[0m\n",
      "\u001b[1;31mTypeError\u001b[0m: object of type 'Response' has no len()"
     ]
    }
   ],
   "source": [
    "soup = BeautifulSoup(html_text, 'lxml')\n"
   ]
  },
  {
   "cell_type": "code",
   "execution_count": null,
   "metadata": {
    "vscode": {
     "languageId": "javascript"
    }
   },
   "outputs": [],
   "source": []
  }
 ],
 "metadata": {
  "kernelspec": {
   "display_name": "base",
   "language": "python",
   "name": "python3"
  },
  "language_info": {
   "codemirror_mode": {
    "name": "ipython",
    "version": 3
   },
   "file_extension": ".py",
   "mimetype": "text/x-python",
   "name": "python",
   "nbconvert_exporter": "python",
   "pygments_lexer": "ipython3",
   "version": "3.9.13"
  },
  "orig_nbformat": 4
 },
 "nbformat": 4,
 "nbformat_minor": 2
}
