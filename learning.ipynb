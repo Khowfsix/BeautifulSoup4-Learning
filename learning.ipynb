{
 "cells": [
  {
   "attachments": {},
   "cell_type": "markdown",
   "metadata": {},
   "source": [
    "# Learning Beautiful Soup 4"
   ]
  },
  {
   "cell_type": "code",
   "execution_count": 5,
   "metadata": {},
   "outputs": [],
   "source": [
    "# import thư viện\n",
    "import requests\n",
    "from bs4 import BeautifulSoup"
   ]
  },
  {
   "cell_type": "code",
   "execution_count": 12,
   "metadata": {},
   "outputs": [
    {
     "name": "stdout",
     "output_type": "stream",
     "text": [
      "<!DOCTYPE html>\n",
      "<html lang=\"en\">\n",
      "\t<head>\n",
      "\t\t<meta charset=\"UTF-8\" />\n",
      "\t\t<meta http-equiv=\"X-UA-Compatible\" content=\"IE=edge\" />\n",
      "\t\t<meta name=\"viewport\" content=\"width=device-width, initial-scale=1.0\" />\n",
      "\t\t<link\n",
      "\t\t\thref=\"https://cdn.jsdelivr.net/npm/bootstrap@5.2.3/dist/css/bootstrap.min.css\"\n",
      "\t\t\trel=\"stylesheet\"\n",
      "\t\t\tintegrity=\"sha384-rbsA2VBKQhggwzxH7pPCaAqO46MgnOM80zW1RWuH61DGLwZJEdK2Kadq2F9CUG65\"\n",
      "\t\t\tcrossorigin=\"anonymous\"\n",
      "\t\t/>\n",
      "\t\t<title>BeautifulSoup 4 Testing Page</title>\n",
      "\t</head>\n",
      "\n",
      "\t<body>\n",
      "\t\t<h1>Hello, I'm eating a Beautiful Soup!</h1>\n",
      "\t\t<div class=\"card\" id=\"card-python-for-beginners\">\n",
      "\t\t\t<div class=\"card-header\">Python</div>\n",
      "\t\t\t<div class=\"card-body\">\n",
      "\t\t\t\t<h5 class=\"card-tittle\">Python for beginners</h5>\n",
      "\t\t\t\t<p class=\"card-text\">\n",
      "\t\t\t\t\tIf you are new to Python, this course that you should buy!\n",
      "\t\t\t\t</p>\n",
      "\t\t\t\t<a href=\"#\" class=\"btn btn-primary\">Start for 20$</a>\n",
      "\t\t\t</div>\n",
      "\t\t</div>\n",
      "\n",
      "\t\t<div class=\"card\" id=\"card-python-web-development\">\n",
      "\t\t\t<div class=\"card-header\">Python</div>\n",
      "\t\t\t<div class=\"card-body\">\n",
      "\t\t\t\t<h5 class=\"card-tittle\">Python Web Development</h5>\n",
      "\t\t\t\t<p class=\"card-text\">\n",
      "\t\t\t\t\tIf you feel enough confident with Python, you already to\n",
      "\t\t\t\t\tlearn how to create your own website!\n",
      "\t\t\t\t</p>\n",
      "\t\t\t\t<a href=\"#\" class=\"btn btn-primary\">Start for 50$</a>\n",
      "\t\t\t</div>\n",
      "\t\t</div>\n",
      "\n",
      "\t\t<div class=\"card\" id=\"card-python-machine-learning\">\n",
      "\t\t\t<div class=\"card-header\">Python</div>\n",
      "\t\t\t<div class=\"card-body\">\n",
      "\t\t\t\t<h5 class=\"card-tittle\">Python Machine Learning</h5>\n",
      "\t\t\t\t<p class=\"card-text\">\n",
      "\t\t\t\t\tBecome a Python Machine Learning master!\n",
      "\t\t\t\t</p>\n",
      "\t\t\t\t<a href=\"#\" class=\"btn btn-primary\">Start for 100$</a>\n",
      "\t\t\t</div>\n",
      "\t\t</div>\n",
      "\t\t<script\n",
      "\t\t\tsrc=\"https://cdn.jsdelivr.net/npm/bootstrap@5.2.3/dist/js/bootstrap.bundle.min.js\"\n",
      "\t\t\tintegrity=\"sha384-kenU1KFdBIe4zVF0s0G1M5b4hcpxyD9F7jL+jjXkk+Q2h455rYXK/7HAuoJl+0I4\"\n",
      "\t\t\tcrossorigin=\"anonymous\"\n",
      "\t\t></script>\n",
      "\t\t<script\n",
      "\t\t\tsrc=\"https://cdn.jsdelivr.net/npm/@popperjs/core@2.11.6/dist/umd/popper.min.js\"\n",
      "\t\t\tintegrity=\"sha384-oBqDVmMz9ATKxIep9tiCxS/Z9fNfEXiDAYTujMAeBAsjFuCZSmKbSSUnQlmh/jp3\"\n",
      "\t\t\tcrossorigin=\"anonymous\"\n",
      "\t\t></script>\n",
      "\t\t<script\n",
      "\t\t\tsrc=\"https://cdn.jsdelivr.net/npm/bootstrap@5.2.3/dist/js/bootstrap.min.js\"\n",
      "\t\t\tintegrity=\"sha384-cuYeSxntonz0PPNlHhBs68uyIAVpIIOZZ5JqeqvYYIcEL727kskC66kF92t6Xl2V\"\n",
      "\t\t\tcrossorigin=\"anonymous\"\n",
      "\t\t></script>\n",
      "\t</body>\n",
      "</html>\n",
      "\n"
     ]
    }
   ],
   "source": [
    "# Mở file offline\n",
    "# mode r: read only\n",
    "with open(file='./homepage.html', mode='r') as html_file:\n",
    "    content = html_file.read()\n",
    "    print(content)"
   ]
  },
  {
   "cell_type": "code",
   "execution_count": null,
   "metadata": {},
   "outputs": [],
   "source": []
  }
 ],
 "metadata": {
  "kernelspec": {
   "display_name": "base",
   "language": "python",
   "name": "python3"
  },
  "language_info": {
   "codemirror_mode": {
    "name": "ipython",
    "version": 3
   },
   "file_extension": ".py",
   "mimetype": "text/x-python",
   "name": "python",
   "nbconvert_exporter": "python",
   "pygments_lexer": "ipython3",
   "version": "3.9.13"
  },
  "orig_nbformat": 4
 },
 "nbformat": 4,
 "nbformat_minor": 2
}
